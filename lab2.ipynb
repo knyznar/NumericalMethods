{
 "cells": [
  {
   "cell_type": "markdown",
   "metadata": {},
   "source": [
    "Sprawozdanie 2\n",
    "Katarzyna Nyznar"
   ]
  },
  {
   "cell_type": "code",
   "execution_count": 5,
   "metadata": {},
   "outputs": [
    {
     "name": "stdout",
     "output_type": "stream",
     "text": [
      "1) Blad bezwzgledny:  0.0012644892673496777\n",
      "1) Blad wzgledny:  0.0004024994347707008 \n",
      "\n",
      "2) Blad bezwzgledny:  0.0002818284590451192\n",
      "2) Blad wzgledny:  0.00010367889601972718 \n",
      "\n",
      "3) Blad bezwzgledny:  11.544268632989315\n",
      "3) Blad wzgledny:  0.008332470227394952 \n",
      "\n",
      "4) Blad bezwzgledny:  3343.1271580516477\n",
      "4) Blad wzgledny:  0.009212762230080598\n"
     ]
    }
   ],
   "source": [
    "#ZADANIE 1\n",
    "from math import *\n",
    "\n",
    "p1 = pi      #wartosc dokladna\n",
    "p1_2 = 22/7   #wartosc przyblizona\n",
    "bladBezwzgledny1 = fabs(p1-p1_2)\n",
    "print(\"1) Blad bezwzgledny: \", bladBezwzgledny1)\n",
    "bladwzgledny1 = bladBezwzgledny1/p1\n",
    "print(\"1) Blad wzgledny: \", bladwzgledny1, \"\\n\")\n",
    "\n",
    "p2 = e\n",
    "p2_2 = 2.718\n",
    "bladBezwzgledny2 = fabs(p2-p2_2)\n",
    "print(\"2) Blad bezwzgledny: \", bladBezwzgledny2)\n",
    "bladwzgledny2 = bladBezwzgledny2/p2\n",
    "print(\"2) Blad wzgledny: \", bladwzgledny2, \"\\n\")\n",
    "\n",
    "p3 = 10**pi\n",
    "p3_2 = 1397\n",
    "bladBezwzgledny3 = fabs(p3-p3_2)\n",
    "print(\"3) Blad bezwzgledny: \", bladBezwzgledny3)\n",
    "bladwzgledny3 = bladBezwzgledny3/p3\n",
    "print(\"3) Blad wzgledny: \", bladwzgledny3, \"\\n\")\n",
    "\n",
    "p4 = factorial(9)\n",
    "p4_2 = sqrt(18*pi)*((9/e)**9)\n",
    "bladBezwzgledny4 = fabs(p4-p4_2)\n",
    "print(\"4) Blad bezwzgledny: \", bladBezwzgledny4)\n",
    "bladwzgledny4 = bladBezwzgledny4/p4\n",
    "print(\"4) Blad wzgledny: \", bladwzgledny4)"
   ]
  },
  {
   "cell_type": "code",
   "execution_count": 74,
   "metadata": {},
   "outputs": [
    {
     "name": "stdout",
     "output_type": "stream",
     "text": [
      "[3.141592653589793, 3.1415926535897967, 3.14159265358982, 3.1415926535901235, 3.1415926535904877, 3.1415926535846666, 3.1415926537343433, 3.1415926534682512, 3.1415926615397134, 3.1415927886962893]\n"
     ]
    },
    {
     "data": {
      "image/png": "[encoded data removed]",
      "text/plain": [
       "<matplotlib.figure.Figure at 0x18460a98978>"
      ]
     },
     "metadata": {},
     "output_type": "display_data"
    }
   ],
   "source": [
    "#ZADANIE 2\n",
    "from math import *\n",
    "import matplotlib.pyplot as plt\n",
    "\n",
    "def ciag_G(n):\n",
    "    result = []\n",
    "    for p in range (1, n+1):\n",
    "        G = 1/p*(10**p*(1+p*round(pi,15)*10**(-p))-10**p)\n",
    "        result.append(G)\n",
    "    return result\n",
    "\n",
    "print(ciag_G(10))\n",
    "\n",
    "\n",
    "# wartość G(p) liczona w sposób analityczny nie zależy od p, ponieważ wzór się upraszcza i dla każdego elementu ciągu \n",
    "# wartość wynosi pi\n",
    "# w przypadku sposobu numerycznego wartość G(p) jest uzależniona od p\n",
    "\n",
    "\n",
    "n=30\n",
    "ciag = ciag_G(n)\n",
    "bezwzgledny = [fabs(i-pi) for i in ciag]\n",
    "wzgledny = [fabs(i/pi) for i in bezwzgledny]\n",
    "\n",
    "plt.semilogy([i for i in range(n)], bezwzgledny, label='błąd bezwzględny')\n",
    "plt.semilogy([i for i in range(n)], wzgledny, label='błąd względny')\n",
    "plt.title('Wykres zależności błędu względnego i bezwzględnego od n')\n",
    "plt.xlabel('n')\n",
    "plt.ylabel('G(n)')\n",
    "plt.legend(loc='lower right')\n",
    "plt.show()\n",
    "\n",
    "# Błąd rośnie wraz ze wzrostem n, można zatem wywnioskować, że błąd zależy od n\n",
    "# Występuje błąd obcięcia\n"
   ]
  },
  {
   "cell_type": "code",
   "execution_count": 3,
   "metadata": {},
   "outputs": [
    {
     "name": "stdout",
     "output_type": "stream",
     "text": [
      "wartosc przyblizona  2.7166666666666663\n",
      "wartosc dokladna  2.718281828459045\n",
      "Blad bezwzgledny dla n=5:  0.0016151617923787498\n",
      "Blad wzgledny dla n=5:  0.0005941848175817597 \n",
      "\n",
      "wartosc przyblizona  2.7182818011463845\n",
      "wartosc dokladna  2.718281828459045\n",
      "Blad bezwzgledny dla n=10:  2.7312660577649694e-08\n",
      "Blad wzgledny dla n=10:  1.0047766310211053e-08\n"
     ]
    }
   ],
   "source": [
    "#ZADANIE 3\n",
    "from math import *\n",
    "\n",
    "a=0\n",
    "for i in range(6):\n",
    "    a += 1/factorial(i)   \n",
    "print(\"wartosc przyblizona \",a)\n",
    "e = exp(1)\n",
    "print(\"wartosc dokladna \",e)\n",
    "bladBezwzgledny1 = fabs(e-a)\n",
    "print(\"Blad bezwzgledny dla n=5: \", bladBezwzgledny1)\n",
    "bladwzgledny1 = bladBezwzgledny1/e\n",
    "print(\"Blad wzgledny dla n=5: \", bladwzgledny1, \"\\n\")\n",
    "\n",
    "a=0\n",
    "for i in range(11):\n",
    "    a += 1/factorial(i)\n",
    "print(\"wartosc przyblizona \",a)\n",
    "e = exp(1)\n",
    "print(\"wartosc dokladna \",e)\n",
    "bladBezwzgledny2 = fabs(e-a)\n",
    "print(\"Blad bezwzgledny dla n=10: \", bladBezwzgledny2)\n",
    "bladwzgledny2 = bladBezwzgledny2/e\n",
    "print(\"Blad wzgledny dla n=10: \", bladwzgledny2)"
   ]
  },
  {
   "cell_type": "code",
   "execution_count": 70,
   "metadata": {},
   "outputs": [
    {
     "name": "stdout",
     "output_type": "stream",
     "text": [
      "50 -  0.0\n",
      "51 -  0.0\n",
      "52 -  0.0\n",
      "53 -  -1.1102230246251565e-16\n",
      "54 -  -5.551115123125783e-17\n",
      "55 -  -2.7755575615628914e-17\n",
      "56 -  -1.3877787807814457e-17\n",
      "57 -  -6.938893903907228e-18\n",
      "58 -  -3.469446951953614e-18\n",
      "59 -  -1.734723475976807e-18\n"
     ]
    }
   ],
   "source": [
    "#ZADANIE 4\n",
    "\n",
    "a = 1.0\n",
    "for i in range(50, 60):\n",
    "    b= 2**(-i)\n",
    "    print(i,\"- \", a+b-a-b)\n",
    "\n",
    "#najmniejsza wartość b dla której uzyskamy poprawny wynik to 2**(-52)\n",
    "#liczba bitów mantysy to 53\n",
    "#mamy do czynienia z błędem reprezentacji"
   ]
  },
  {
   "cell_type": "code",
   "execution_count": 61,
   "metadata": {},
   "outputs": [
    {
     "name": "stdout",
     "output_type": "stream",
     "text": [
      "3.1101287281412624\n"
     ]
    }
   ],
   "source": [
    "#ZADANIE 5\n",
    "\n",
    "print(sqrt(sum(1/(i**2) for i in range(n, 0, -1))*6))\n",
    "\n",
    "#Mamy do czynienia z błędęm obcięcia, następuje ograniczenie liczby działań przy obliczaniu sumy nieskończonej,\n",
    "#a także z błędami zaokrągleń, ponieważ uzyskujemy bardzo małe liczby jednocześnie mając ograniczoną długość słów binarnych.\n",
    " "
   ]
  }
 ],
 "metadata": {
  "kernelspec": {
   "display_name": "Python 3",
   "language": "python",
   "name": "python3"
  },
  "language_info": {
   "codemirror_mode": {
    "name": "ipython",
    "version": 3
   },
   "file_extension": ".py",
   "mimetype": "text/x-python",
   "name": "python",
   "nbconvert_exporter": "python",
   "pygments_lexer": "ipython3",
   "version": "3.6.2"
  }
 },
 "nbformat": 4,
 "nbformat_minor": 2
}
