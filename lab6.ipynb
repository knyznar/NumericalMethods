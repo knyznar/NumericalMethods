{
 "cells": [
  {
   "cell_type": "markdown",
   "metadata": {},
   "source": [
    "# Sprawozdanie 6\n",
    "Katarzyna Nyznar"
   ]
  },
  {
   "cell_type": "code",
   "execution_count": 2,
   "metadata": {
    "collapsed": true
   },
   "outputs": [],
   "source": [
    "from math import *\n",
    "from numpy import *\n",
    "from numpy.linalg import inv\n",
    "from scipy.linalg import *\n",
    "import time\n",
    "import matplotlib.pyplot as plt\n",
    "import scipy.integrate as integrate\n",
    "from scipy.optimize import newton\n",
    "from scipy.stats import norm\n",
    "from scipy import interpolate"
   ]
  },
  {
   "cell_type": "markdown",
   "metadata": {},
   "source": [
    "Zadanie 1"
   ]
  },
  {
   "cell_type": "code",
   "execution_count": 3,
   "metadata": {},
   "outputs": [
    {
     "name": "stdout",
     "output_type": "stream",
     "text": [
      "0.43233235838169365  - metoda analityczna\n",
      "0.36787944117144233  - metoda prostokątów\n",
      "0.5676676416183064  - prosty wzór trapezów\n",
      "0.4344755079870637  - prosty wzór simpsona\n",
      "0.4337725064184668  - złożony wzór trapezów\n",
      "0.432332598280703  - złożony wzór simpsona\n",
      "0.432332358382  - metoda integrate.romberg\n",
      "0.4323323583816936  - metoda integrate.quad\n"
     ]
    }
   ],
   "source": [
    "f = lambda x: e**(-2*x)\n",
    "\n",
    "#rozwiązanie analityczne\n",
    "analitycznie = (-0.5*e**(-2)) + 0.5\n",
    "\n",
    "#metoda prostokatow \n",
    "def prost(xp, xk, f):\n",
    "    return (xk-xp) * f((xp+xk)/2)\n",
    "\n",
    "#metoda trapezow\n",
    "def trap(xp, xk, f):\n",
    "    return 0.5 * (xk-xp) * (f(xp)+f(xk))\n",
    "\n",
    "#metoda Simpsona\n",
    "def simpson1(xp, xk, f):\n",
    "    return (1/6) * (xk-xp)*(f(xp) + 4*f((xp+xk)/2) + f(xk))\n",
    "\n",
    "# metoda trapezów (złożona)\n",
    "def trapezow(xp, xk, n, f):\n",
    "    suma = 0\n",
    "    dx = (xk - xp) / n\n",
    "\n",
    "    for i in range(n):\n",
    "        xk = xp + dx\n",
    "        suma += (f(xp) + f(xk))\n",
    "        xp += dx\n",
    "    suma *= dx / 2\n",
    "    return suma\n",
    "\n",
    "# metoda Simpsona (złożona)\n",
    "def simpson(xp, xk, n, f):\n",
    "    dx = (xk - xp) / n\n",
    "    wynik = 0\n",
    "    suma = 0\n",
    "    for i in range(1, n+1):\n",
    "        x = xp + dx*i\n",
    "        suma += f(x - dx/2)\n",
    "        if i < n:\n",
    "            wynik += f(x)\n",
    "    wynik = dx/6*(f(xp) + f(xk) + 2 *wynik + 4*suma)\n",
    "    return wynik\n",
    "\n",
    "integral_romberg = integrate.romberg(f, 0, 1)\n",
    "integral_quad = integrate.quad(f, 0, 1)\n",
    "\n",
    "print(analitycznie, \" - metoda analityczna\")\n",
    "print(prost(0, 1, f), \" - metoda prostokątów\")\n",
    "print(trap(0, 1, f), \" - prosty wzór trapezów\")\n",
    "print(simpson1(0, 1, f), \" - prosty wzór simpsona\")\n",
    "print(trapezow(0, 1, 10, f), \" - złożony wzór trapezów\")\n",
    "print(simpson(0, 1, 10, f), \" - złożony wzór simpsona\")\n",
    "print(integral_romberg, \" - metoda integrate.romberg\")\n",
    "print(integral_quad[0], \" - metoda integrate.quad\")\n"
   ]
  },
  {
   "cell_type": "markdown",
   "metadata": {},
   "source": [
    "Wynik najbardziej zbliżony do analitycznego otrzymujemy metodą złożonego wzoru Simpsona, a także metodami wbudowanymi integrate.romberg i integrate.quad\n",
    "\n",
    "Najbardziej odbiegające wyniki zwraca metoda prostokątów i prosty wzór trapezów"
   ]
  },
  {
   "cell_type": "markdown",
   "metadata": {},
   "source": [
    "Zadanie 2"
   ]
  },
  {
   "cell_type": "code",
   "execution_count": 7,
   "metadata": {},
   "outputs": [
    {
     "name": "stdout",
     "output_type": "stream",
     "text": [
      "Wartosc referencyjna:  1.64485362695\n",
      "Wynik dla złożonego wzoru Simpsona:  1.64485350545\n",
      "Wynik dla złożonego wzoru trapezów:  1.6485764168\n"
     ]
    }
   ],
   "source": [
    "funkcja_calki = lambda t: e**((-t**2)/2)/(sqrt(2*pi))\n",
    "\n",
    "def T(x):\n",
    "    return trapezow(0, x, 10, funkcja_calki) - 0.45\n",
    "\n",
    "def S(x):\n",
    "    return simpson(0, x, 10, funkcja_calki) - 0.45\n",
    "\n",
    "wart_referencyjna = norm.ppf(0.95)\n",
    "print(\"Wartosc referencyjna: \", wart_referencyjna)\n",
    "\n",
    "xS = newton(S, 0.5, funkcja_calki,tol=10**(-5))\n",
    "print(\"Wynik dla złożonego wzoru Simpsona: \", xS)\n",
    "xT = newton(T, 0.5, funkcja_calki,tol=10**(-5))\n",
    "print(\"Wynik dla złożonego wzoru trapezów: \", xT)"
   ]
  },
  {
   "cell_type": "markdown",
   "metadata": {},
   "source": [
    "Zadanie 3"
   ]
  },
  {
   "cell_type": "code",
   "execution_count": 8,
   "metadata": {},
   "outputs": [
    {
     "name": "stdout",
     "output_type": "stream",
     "text": [
      "v(4) =  0.0 m/s\n",
      "Droga hamowania:  6.8249999822308585 m\n",
      "Średnia prędkość samochodu w t=[0, 0.5]:  5.4750000000000005 m/s\n"
     ]
    }
   ],
   "source": [
    "czas = [0.0, 0.5, 1.0, 2.0, 3.0, 4.0]\n",
    "przyspieszenie = [-4.5, -4.5, -2.3, -1.0, -0.5, 0.0]\n",
    "\n",
    "a = interpolate.interp1d(czas, przyspieszenie)\n",
    "\n",
    "def v(t):\n",
    "    return integrate.quad(a, 0, t)[0] + abs(integrate.quad(a,0,4)[0])\n",
    "def s(t):\n",
    "    return integrate.quad(v, 0, t)[0]\n",
    "\n",
    "print(\"v(4) = \", v(4), \"m/s\")\n",
    "\n",
    "droga_hamowania = s(4)\n",
    "srednia_predkosc = s(0.5) / 0.5\n",
    "\n",
    "print(\"Droga hamowania: \", droga_hamowania, \"m\")\n",
    "print(\"Średnia prędkość samochodu w t=[0, 0.5]: \", srednia_predkosc, \"m/s\")\n"
   ]
  },
  {
   "cell_type": "markdown",
   "metadata": {},
   "source": [
    "Zadanie 4"
   ]
  },
  {
   "cell_type": "code",
   "execution_count": 13,
   "metadata": {},
   "outputs": [
    {
     "name": "stdout",
     "output_type": "stream",
     "text": [
      "Metoda romberga:  15.8251598855\n",
      "Metoda Simpsona:  11.0634847809\n",
      "Metoda trapezow:  11.0634847809\n"
     ]
    },
    {
     "data": {
      "image/png": "[encoded data removed]",
      "text/plain": [
       "<matplotlib.figure.Figure at 0x25a408e4b00>"
      ]
     },
     "metadata": {},
     "output_type": "display_data"
    }
   ],
   "source": [
    "A = 0.1\n",
    "T = 0.2\n",
    "l = 4.8\n",
    "f = lambda x: sqrt(1 + ((A*2*pi*cos(2*pi*x/T))/T)**2)\n",
    "\n",
    "r = integrate.romberg(f, 0, l)\n",
    "s = simpson(0, l, 100, f)\n",
    "t = trapezow(0, l, 100, f)\n",
    "\n",
    "print(\"Metoda romberga: \", r)\n",
    "print(\"Metoda Simpsona: \", s)\n",
    "print(\"Metoda trapezow: \", t)\n",
    "\n",
    "przedzialy_s = [simpson(0, l, i, f) for i in range(1, 101)]\n",
    "przedzialy_t = [trapezow(0, l, i, f) for i in range(1, 101)]\n",
    "\n",
    "x = [i for i in range(1, 101)]\n",
    "plt.figure(figsize=(10, 7))\n",
    "plt.plot(x, przedzialy_s, label='metoda Simpsona')\n",
    "plt.plot(x, przedzialy_t, label='metoda trapezów')\n",
    "plt.grid()\n",
    "plt.legend()\n",
    "plt.title('Wykres zależnośći wyniku od ilości podprzedziałów')\n",
    "plt.xlabel('liczba podprzedziałów')\n",
    "plt.ylabel('długość arkusza blachy')\n",
    "plt.show()\n"
   ]
  },
  {
   "cell_type": "markdown",
   "metadata": {},
   "source": [
    "Im większa liczba podprzedziałów, tym dokładniejszy wynik zwracają obie metody"
   ]
  },
  {
   "cell_type": "code",
   "execution_count": null,
   "metadata": {
    "collapsed": true
   },
   "outputs": [],
   "source": []
  }
 ],
 "metadata": {
  "kernelspec": {
   "display_name": "Python 3",
   "language": "python",
   "name": "python3"
  },
  "language_info": {
   "codemirror_mode": {
    "name": "ipython",
    "version": 3
   },
   "file_extension": ".py",
   "mimetype": "text/x-python",
   "name": "python",
   "nbconvert_exporter": "python",
   "pygments_lexer": "ipython3",
   "version": "3.6.2"
  }
 },
 "nbformat": 4,
 "nbformat_minor": 2
}
