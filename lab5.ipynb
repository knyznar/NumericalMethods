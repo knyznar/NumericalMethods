{
 "cells": [
  {
   "cell_type": "markdown",
   "metadata": {},
   "source": [
    "# Sprawozdanie 5\n",
    "\n",
    "Katarzyna Nyznar"
   ]
  },
  {
   "cell_type": "code",
   "execution_count": 1,
   "metadata": {
    "collapsed": true
   },
   "outputs": [],
   "source": [
    "from math import *\n",
    "from numpy import *\n",
    "from numpy.linalg import inv\n",
    "from scipy.linalg import *\n",
    "import time\n",
    "import matplotlib.pyplot as plt\n",
    "from numpy import linalg as LA\n",
    "from scipy.sparse.linalg import bicg, gmres\n",
    "from scipy.sparse import csr_matrix"
   ]
  },
  {
   "cell_type": "markdown",
   "metadata": {},
   "source": [
    "ZADANIE 1"
   ]
  },
  {
   "cell_type": "code",
   "execution_count": 2,
   "metadata": {},
   "outputs": [
    {
     "name": "stdout",
     "output_type": "stream",
     "text": [
      "Rozwiązanie dla b1:\n",
      "[[ 1.]\n",
      " [ 1.]]\n",
      "\n",
      "Rozwiązanie dla b2:\n",
      "[[ 2.]\n",
      " [ 0.]]\n",
      "\n",
      "Współczynnik uwarunkowania macierzy A:  40002.0000749\n"
     ]
    }
   ],
   "source": [
    "A = array([[1, 1], [1, 1.0001]])\n",
    "b1 = array([[2], [2.0001]])\n",
    "b2 = array([[2], [2]])\n",
    "\n",
    "x1 = solve(A, b1)\n",
    "print(\"Rozwiązanie dla b1:\")\n",
    "print(x1)\n",
    "x2 = solve(A,b2)\n",
    "print(\"\\nRozwiązanie dla b2:\")\n",
    "print(x2)\n",
    "wsp_uwarunkowania = linalg.cond(A)\n",
    "print(\"\\nWspółczynnik uwarunkowania macierzy A: \", wsp_uwarunkowania)"
   ]
  },
  {
   "cell_type": "markdown",
   "metadata": {},
   "source": [
    "ZADANIE 2"
   ]
  },
  {
   "cell_type": "code",
   "execution_count": 4,
   "metadata": {},
   "outputs": [
    {
     "name": "stdout",
     "output_type": "stream",
     "text": [
      "Współczynniki uwarunkowania macierzy: \n",
      "Dla normy kolumnowej: 33872789109.8 2\n",
      "Dla normy spektralnej: 15257574847.2 2\n",
      "Dla normy wierszowej: 33872789110.1 2\n"
     ]
    }
   ],
   "source": [
    "H = hilbert(8)\n",
    "\n",
    "wsk_kolumnowa = LA.cond(H, inf)\n",
    "wsk_spektralna = LA.cond(H, 2)\n",
    "wsk_wierszowa = LA.cond(H, 1)\n",
    "\n",
    "print(\"Współczynniki uwarunkowania macierzy: \")\n",
    "print(\"Dla normy kolumnowej:\", wsk_kolumnowa,2)\n",
    "print(\"Dla normy spektralnej:\", wsk_spektralna,2)\n",
    "print(\"Dla normy wierszowej:\", wsk_wierszowa,2)\n",
    "\n",
    "# Macierz Hilberta jest źle uwarunkowana"
   ]
  },
  {
   "cell_type": "markdown",
   "metadata": {},
   "source": [
    "ZADANIE 3"
   ]
  },
  {
   "cell_type": "code",
   "execution_count": 17,
   "metadata": {},
   "outputs": [
    {
     "name": "stdout",
     "output_type": "stream",
     "text": [
      "Wynik uzyskany z pomocą metody solve:\n",
      " [  1.00000000e+00  -1.78396625e-12  -8.00000000e+00  -3.14772547e-09\n",
      "   1.06666667e+01  -5.38482990e-07  -5.68888485e+00  -2.22345318e-05\n",
      "   1.62548899e+00  -2.91926133e-04  -2.88247481e-01  -1.33871820e-03\n",
      "   3.69563353e-02  -2.10907863e-03  -1.37649560e-03  -9.72043640e-04\n",
      "   5.64051328e-04  -6.61944243e-05  -1.36330098e-05   3.48116567e-06] \n",
      "Czas wykonania:  0.008972644805908203\n",
      "\n",
      "Wynik uzyskany z pomocą rozkładu QR:\n",
      " [  1.00000000e+00  -2.25281452e-11  -8.00000000e+00  -4.11781634e-08\n",
      "   1.06666673e+01  -7.35490279e-06  -5.68883224e+00  -3.22423197e-04\n",
      "   1.62679020e+00  -4.65437320e-03  -2.76811009e-01  -2.49063725e-02\n",
      "   7.51347331e-02  -5.04638639e-02   4.59385722e-02  -3.60053877e-02\n",
      "   1.95283041e-02  -7.14171131e-03   1.61166599e-03  -1.69668477e-04] \n",
      "Czas wykonania:  0.003987789154052734\n",
      "\n",
      "Wynik uzyskany z pomocą metody lstsq\n",
      " [  1.00000000e+00   1.65414349e-11  -8.00000000e+00   2.78199653e-08\n",
      "   1.06666662e+01   4.37567271e-06  -5.68891974e+00   1.56970502e-04\n",
      "   1.62480930e+00   1.62539435e-03  -2.92239976e-01   4.60388058e-03\n",
      "   3.12339936e-02   1.81728176e-06   1.70677741e-03  -7.11171992e-03\n",
      "   5.97640724e-03  -2.85773341e-03   8.01876975e-04  -1.01505376e-04] \n",
      "Czas wykonania:  0.018528223037719727\n",
      "\n",
      "\n",
      "residuum X1:  2.655992507576324e-15\n",
      "residuum X2:  5.106196195517207e-15\n",
      "residuum X3:  2.3692875334887135e-14\n"
     ]
    },
    {
     "name": "stderr",
     "output_type": "stream",
     "text": [
      "C:\\Users\\katarzyna.nyznar\\Anaconda3\\lib\\site-packages\\scipy\\linalg\\basic.py:223: RuntimeWarning: scipy.linalg.solve\n",
      "Ill-conditioned matrix detected. Result is not guaranteed to be accurate.\n",
      "Reciprocal condition number: 2.333223014123033e-17\n",
      "  ' condition number: {}'.format(rcond), RuntimeWarning)\n"
     ]
    }
   ],
   "source": [
    "n = 20\n",
    "t = linspace(0, 1, n)\n",
    "t = transpose(t)\n",
    "b = [cos(4*t[i]) for i in range(t.size)]\n",
    "b = transpose(b)\n",
    "\n",
    "A = fliplr(vander(t))\n",
    "\n",
    "#Ax=b\n",
    "start = time.time()\n",
    "for i in range(100):\n",
    "    X1 = solve(A, b)\n",
    "end1 = time.time() - start\n",
    "\n",
    "Q, R = qr(A)\n",
    "p = Q.T@b\n",
    "\n",
    "start = time.time()\n",
    "for i in range(100):\n",
    "    X2 = solve_triangular(R, p)\n",
    "end2 = time.time() - start\n",
    "\n",
    "start = time.time()\n",
    "for i in range(100):\n",
    "    X3 = lstsq(A, b)[0]\n",
    "end3 = time.time() - start\n",
    "\n",
    "# Dla lepszego pomiaru czasu, każda funkcja wywoływana jest 100 razy\n",
    "print(\"Wynik uzyskany z pomocą metody solve:\\n\", X1, \"\\nCzas wykonania: \", end1)\n",
    "print(\"\\nWynik uzyskany z pomocą rozkładu QR:\\n\",X2, \"\\nCzas wykonania: \", end2)\n",
    "print(\"\\nWynik uzyskany z pomocą metody lstsq\\n\", X3, \"\\nCzas wykonania: \", end3)\n",
    "\n",
    "\n",
    "res = b - A@X1\n",
    "print(\"\\n\\nresiduum X1: \", norm(res))\n",
    "res = b - A@X2\n",
    "print(\"residuum X2: \", norm(res))\n",
    "res = b - A@X3\n",
    "print(\"residuum X3: \", norm(res))"
   ]
  },
  {
   "cell_type": "markdown",
   "metadata": {},
   "source": [
    "ZADANIE 4"
   ]
  },
  {
   "cell_type": "code",
   "execution_count": 18,
   "metadata": {},
   "outputs": [
    {
     "name": "stdout",
     "output_type": "stream",
     "text": [
      "[4753.9393453376733, 55200.448746378112, 3788.2636683478036, 21357.026747554693, 1904.3474073953778, 1956.3474617767222]\n"
     ]
    },
    {
     "data": {
      "image/png": "[encoded data removed]",
      "text/plain": [
       "<matplotlib.figure.Figure at 0x20342cfefd0>"
      ]
     },
     "metadata": {},
     "output_type": "display_data"
    }
   ],
   "source": [
    "def generateMatrix(n, tau):\n",
    "    A = ones((n, n))\n",
    "    for i in range(1, n):\n",
    "        for j in range(i):\n",
    "            x = random.uniform(-1, 1)\n",
    "            A[i][j] = 0 if x > tau else x\n",
    "            A[j][i] = A[i][j]\n",
    "    return A\n",
    "\n",
    "\n",
    "b = [random.uniform(-1, 1) for i in range(500)]\n",
    "tau = [0.01, 0.05, 0.1, 0.2, 0.5, 0.75]\n",
    "wsp_uwarunkowania = []\n",
    "\n",
    "A = []\n",
    "for i in tau:\n",
    "    A1 = generateMatrix(500, i)\n",
    "    A.append(A1)\n",
    "    wsp_uwarunkowania.append(LA.cond(A1))\n",
    "\n",
    "print(wsp_uwarunkowania)\n",
    "\n",
    "plt.plot(tau, wsp_uwarunkowania)\n",
    "plt.scatter(tau, wsp_uwarunkowania)\n",
    "plt.grid()\n",
    "plt.title('Wykres zależności współczynnika uwarunkowania macierzy od τ')\n",
    "plt.xlabel('τ')\n",
    "plt.ylabel('współczynnik uwarunkowania')\n",
    "plt.show()\n"
   ]
  },
  {
   "cell_type": "code",
   "execution_count": 19,
   "metadata": {},
   "outputs": [
    {
     "name": "stdout",
     "output_type": "stream",
     "text": [
      "Metoda solve:\n",
      "czas:  0.016779317930286197\n",
      "czas:  0.020791870230141285\n",
      "czas:  0.02135068997245071\n",
      "czas:  0.01579232143922127\n",
      "czas:  0.020778654898322202\n",
      "czas:  0.020666513368723827\n",
      "\n",
      "Metoda bicg:\n",
      "czas:  0.36932434539744463\n",
      "czas:  0.36312446690294564\n",
      "czas:  0.36211896894724305\n",
      "czas:  0.39573537468663744\n",
      "czas:  0.47428579627489853\n",
      "czas:  0.5226709016142195\n",
      "\n",
      "Metoda gmres:\n",
      "czas:  21.090295075703125\n",
      "czas:  22.87331065582407\n",
      "czas:  23.78792224400854\n",
      "czas:  24.450205196344086\n",
      "czas:  18.74268087730161\n",
      "czas:  35.37479171693212\n",
      "\n"
     ]
    },
    {
     "data": {
      "image/png": "[encoded data removed]",
      "text/plain": [
       "<matplotlib.figure.Figure at 0x203439d3278>"
      ]
     },
     "metadata": {},
     "output_type": "display_data"
    }
   ],
   "source": [
    "print(\"Metoda solve:\")\n",
    "time_solve = []\n",
    "residuum_solve = []\n",
    "for i in range(len(tau)):\n",
    "    B = A[i]\n",
    "    start = time.perf_counter()\n",
    "    x = solve(B, b)\n",
    "    duration = time.perf_counter() - start\n",
    "    residuum_solve.append(b - B@x)\n",
    "    print(\"czas: \", duration)\n",
    "    time_solve.append(duration)\n",
    "print()\n",
    "\n",
    "print(\"Metoda bicg:\")\n",
    "time_bicg = []\n",
    "residuum_bicg = []\n",
    "for i in range(len(tau)):\n",
    "    B = A[i]\n",
    "    B = csr_matrix(B)\n",
    "    start = time.perf_counter()\n",
    "    x, info = bicg(B, b)\n",
    "    duration = time.perf_counter() - start\n",
    "    residuum_bicg.append(b - B@x)\n",
    "    print(\"czas: \", duration)\n",
    "    time_bicg.append(duration)\n",
    "print()\n",
    "\n",
    "print(\"Metoda gmres:\")\n",
    "time_gmres = []\n",
    "residuum_gmres = []\n",
    "for i in range(len(tau)):\n",
    "    B = A[i]\n",
    "    B = csr_matrix(B)\n",
    "    start = time.perf_counter()\n",
    "    x, info = gmres(B, b)\n",
    "    duration = time.perf_counter() - start\n",
    "    residuum_gmres.append(b -B@x)\n",
    "    print(\"czas: \", duration)\n",
    "    time_gmres.append(duration)\n",
    "print()\n",
    "\n",
    "plt.figure(figsize=(10, 7))\n",
    "plt.scatter(wsp_uwarunkowania, time_solve, label=\"solve\")\n",
    "plt.scatter(wsp_uwarunkowania, time_bicg, label=\"bicg\")\n",
    "plt.scatter(wsp_uwarunkowania, time_gmres, label=\"gmres\")\n",
    "plt.grid()\n",
    "plt.title('Wykres zależności czasu wykonania obliczeń od współczynnika uwarunkowania')\n",
    "plt.xlabel('współczynnik uwarunkowania')\n",
    "plt.ylabel('czas wykonania')\n",
    "plt.legend()\n",
    "plt.show()\n"
   ]
  },
  {
   "cell_type": "code",
   "execution_count": 24,
   "metadata": {},
   "outputs": [
    {
     "data": {
      "image/png": "[encoded data removed]",
      "text/plain": [
       "<matplotlib.figure.Figure at 0x20343dd4438>"
      ]
     },
     "metadata": {},
     "output_type": "display_data"
    }
   ],
   "source": [
    "res_solve = []\n",
    "res_bicg = []\n",
    "res_gmres = []\n",
    "\n",
    "for i in range(6):\n",
    "    res_solve.append(norm(residuum_solve[i]))\n",
    "    res_bicg.append(norm(residuum_bicg[i]))\n",
    "    res_gmres.append(norm(residuum_gmres[i]))\n",
    "\n",
    "    \n",
    "plt.figure(figsize=(10, 7))\n",
    "plt.scatter(wsp_uwarunkowania, res_solve, s=80, label=\"solve\")\n",
    "plt.scatter(wsp_uwarunkowania, res_bicg, label=\"bicg\")\n",
    "plt.scatter(wsp_uwarunkowania, res_gmres, label=\"gmres\")\n",
    "plt.title('Zależność jakości rozwiązania od uwarunkowania macierzy dla użytych metod')\n",
    "plt.xlabel('współczynnik uwarunkowania')\n",
    "plt.ylabel('norma z residuum')\n",
    "plt.legend()\n",
    "plt.grid()\n",
    "plt.ylim(bottom=-0.5, top=0.5)\n",
    "plt.show()"
   ]
  },
  {
   "cell_type": "markdown",
   "metadata": {},
   "source": [
    "ZADANIE 5"
   ]
  },
  {
   "cell_type": "code",
   "execution_count": 11,
   "metadata": {},
   "outputs": [
    {
     "name": "stdout",
     "output_type": "stream",
     "text": [
      "[ 1.69312169 -0.62433862]  - metoda Gaussa-Seidla\n",
      "[ 1.69312169 -0.62433862]  - metoda solve\n",
      "\n",
      "[ -9.71400324e+60  -2.37837221e+62   5.04816453e+62]  - metoda Gaussa-Seidla\n",
      "[ 0.25 -0.75  0.75]  - metoda solve\n"
     ]
    }
   ],
   "source": [
    "def gaussSeidl(A, b, n, x):\n",
    "    L = tril(A)\n",
    "    U = A - L\n",
    "\n",
    "    for i in range(n):\n",
    "        x = dot(linalg.inv(L), b - dot(U, x))\n",
    "    return x\n",
    "\n",
    "n = 100\n",
    "\n",
    "A = array([[11, 1], [9, 18]])\n",
    "b = array([18, 4])\n",
    "x = [0, 0]\n",
    "\n",
    "G = gaussSeidl(A, b, n, x)\n",
    "S = solve(A, b)\n",
    "print(G, \" - metoda Gaussa-Seidla\")\n",
    "print(S, \" - metoda solve\\n\")\n",
    "\n",
    "A = array([[1, 2, 3], [2, 1, 3], [3, 2, 1]])\n",
    "b = transpose(array([1, 2, 0]))\n",
    "x = [0, 0, 0]\n",
    "\n",
    "G = gaussSeidl(A, b, n, x)\n",
    "S = solve(A, b)\n",
    "\n",
    "print(G, \" - metoda Gaussa-Seidla\")\n",
    "print(S, \" - metoda solve\")\n",
    "\n",
    "# Macierz podana w zadaniu nie spełnia warunków zbieżności, dlatego metoda Gaussa-Seidla zwraca niepoprawny wynik"
   ]
  },
  {
   "cell_type": "code",
   "execution_count": null,
   "metadata": {
    "collapsed": true
   },
   "outputs": [],
   "source": []
  }
 ],
 "metadata": {
  "kernelspec": {
   "display_name": "Python 3",
   "language": "python",
   "name": "python3"
  },
  "language_info": {
   "codemirror_mode": {
    "name": "ipython",
    "version": 3
   },
   "file_extension": ".py",
   "mimetype": "text/x-python",
   "name": "python",
   "nbconvert_exporter": "python",
   "pygments_lexer": "ipython3",
   "version": "3.6.2"
  }
 },
 "nbformat": 4,
 "nbformat_minor": 2
}
